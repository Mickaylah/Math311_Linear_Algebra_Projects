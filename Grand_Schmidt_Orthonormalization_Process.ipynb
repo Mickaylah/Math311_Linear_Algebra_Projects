{
  "nbformat": 4,
  "nbformat_minor": 0,
  "metadata": {
    "colab": {
      "provenance": [],
      "authorship_tag": "ABX9TyN6KikODLOjNFfzV41pztBj",
      "include_colab_link": true
    },
    "kernelspec": {
      "name": "python3",
      "display_name": "Python 3"
    },
    "language_info": {
      "name": "python"
    }
  },
  "cells": [
    {
      "cell_type": "markdown",
      "metadata": {
        "id": "view-in-github",
        "colab_type": "text"
      },
      "source": [
        "<a href=\"https://colab.research.google.com/github/Mickaylah/Math311_Linear_Algebra_Projects/blob/main/Grand_Schmidt_Orthonormalization_Process.ipynb\" target=\"_parent\"><img src=\"https://colab.research.google.com/assets/colab-badge.svg\" alt=\"Open In Colab\"/></a>"
      ]
    },
    {
      "cell_type": "code",
      "execution_count": 1,
      "metadata": {
        "id": "dxnj1xWO1E20"
      },
      "outputs": [],
      "source": [
        "import matplotlib.pyplot as plt\n",
        "from sympy import Poly\n",
        "import sympy as sym\n",
        "import numpy as np\n",
        "from numpy import c_\n",
        "\n",
        "# we'll specific that x and t are variables:\n",
        "x, t = sym.symbols('x, t')\n",
        "\n",
        "ll = \"loaded\""
      ]
    },
    {
      "cell_type": "code",
      "source": [
        "r1 = np.matrix([2,2,2,2])\n",
        "r1"
      ],
      "metadata": {
        "colab": {
          "base_uri": "https://localhost:8080/"
        },
        "id": "1QN5J1q12Uc1",
        "outputId": "9b36132d-764e-4c00-f28d-62acee343946"
      },
      "execution_count": 3,
      "outputs": [
        {
          "output_type": "execute_result",
          "data": {
            "text/plain": [
              "matrix([[2, 2, 2, 2]])"
            ]
          },
          "metadata": {},
          "execution_count": 3
        }
      ]
    },
    {
      "cell_type": "code",
      "source": [
        "# lets try an array\n",
        "\n",
        "r1 = np.array([1, 2, 3, 4])"
      ],
      "metadata": {
        "id": "YEjAzElO25UQ"
      },
      "execution_count": 8,
      "outputs": []
    },
    {
      "cell_type": "code",
      "source": [
        "r1.dot(r1)"
      ],
      "metadata": {
        "colab": {
          "base_uri": "https://localhost:8080/"
        },
        "id": "xecjXhTx4IsY",
        "outputId": "e4501944-ef6b-45d7-8f4f-fb749cd84b33"
      },
      "execution_count": 9,
      "outputs": [
        {
          "output_type": "execute_result",
          "data": {
            "text/plain": [
              "30"
            ]
          },
          "metadata": {},
          "execution_count": 9
        }
      ]
    },
    {
      "cell_type": "code",
      "source": [
        "# use sqrt to find magnitude\n",
        "np.sqrt(9)\n"
      ],
      "metadata": {
        "colab": {
          "base_uri": "https://localhost:8080/"
        },
        "id": "gvF-gGll4ibp",
        "outputId": "cff38d0d-bb2e-4d67-bff6-7529947f0a9a"
      },
      "execution_count": 10,
      "outputs": [
        {
          "output_type": "execute_result",
          "data": {
            "text/plain": [
              "3.0"
            ]
          },
          "metadata": {},
          "execution_count": 10
        }
      ]
    },
    {
      "cell_type": "markdown",
      "source": [
        "#Gram-schmidt Process:\n",
        "\n",
        "1. Start with \"random\" vectors r1, r2, r3, and r4.\n",
        "\n",
        "2. Process them in order, generating: u1. u2, u3, and u4.\n",
        "\n",
        "After each step, we'll check that our nice vectors are:\n",
        "  - orthogonal to previous nice vectors\n",
        "  - have magnitude of 1"
      ],
      "metadata": {
        "id": "M-9SITn65Cwx"
      }
    },
    {
      "cell_type": "code",
      "source": [
        "# these are the random vectors:\n",
        "\n",
        "r1 = np.array([ 3, 0, 3, 0 ])\n",
        "print(\"r1 is\", r1)\n",
        "\n",
        "r2 = np.array([ 3, 2, 3, 3 ])\n",
        "print(\"r2 is\", r2)\n",
        "\n",
        "r3 = np.array([ -7, -4, -5, -6 ])\n",
        "print(\"r3 is\", r3)\n",
        "\n",
        "r4 = np.array([ -7, -3, -11, 2 ])\n",
        "print(\"r4 is\", r4)"
      ],
      "metadata": {
        "colab": {
          "base_uri": "https://localhost:8080/"
        },
        "id": "0_z2y0ue5nje",
        "outputId": "9de22ff4-da44-42a6-b73e-dce6f6742b39"
      },
      "execution_count": 12,
      "outputs": [
        {
          "output_type": "stream",
          "name": "stdout",
          "text": [
            "r1 is [3 0 3 0]\n",
            "r2 is [3 2 3 3]\n",
            "r3 is [-7 -4 -5 -6]\n",
            "r4 is [ -7  -3 -11   2]\n"
          ]
        }
      ]
    },
    {
      "cell_type": "code",
      "source": [
        "# let's process the vectors:\n",
        "  # select a random vector, and subtract the nice pirces.\n",
        "  # t = r - ___ u1 - ___ u2 - ___ u3 ...\n",
        "  # where the _____ are the dot products of\n",
        "\n",
        "  #then we'll find the magnitude of t:\n",
        "  # if |t|"
      ],
      "metadata": {
        "id": "qM8SV9fG6sgV"
      },
      "execution_count": null,
      "outputs": []
    },
    {
      "cell_type": "code",
      "source": [
        "#process r1:\n",
        "t1 = r1\n",
        "print(\"t1 = \", t1)\n",
        "\n",
        "#magnitude:\n",
        "\n",
        "n1 = np.sqrt(t1.dot(t1))\n",
        "print(\"the size of t1 is \", n1)\n",
        "\n",
        "#create u1:\n",
        "u1 = (1/n1)*t1\n",
        "print(\"u1 is \", u1)"
      ],
      "metadata": {
        "colab": {
          "base_uri": "https://localhost:8080/"
        },
        "id": "mXrycRS37Lfd",
        "outputId": "1a86b1c5-a685-462d-9509-c79146f29710"
      },
      "execution_count": 13,
      "outputs": [
        {
          "output_type": "stream",
          "name": "stdout",
          "text": [
            "t1 =  [3 0 3 0]\n",
            "the size of t1 is  4.242640687119285\n",
            "u1 is  [0.70710678 0.         0.70710678 0.        ]\n"
          ]
        }
      ]
    },
    {
      "cell_type": "code",
      "source": [
        "# sanity check:\n",
        "print(\"the size of u1 is\", np.sqrt(u1.dot(u1)))"
      ],
      "metadata": {
        "colab": {
          "base_uri": "https://localhost:8080/"
        },
        "id": "Gzk-uLQV71zs",
        "outputId": "eded318e-2ba6-4fbf-cd4e-83c61abe5e23"
      },
      "execution_count": 14,
      "outputs": [
        {
          "output_type": "stream",
          "name": "stdout",
          "text": [
            "the size of u1 is 1.0\n"
          ]
        }
      ]
    },
    {
      "cell_type": "code",
      "source": [
        "# process r2:\n",
        "t2 = r2 - r2.dot(u1) * u1\n",
        "print(\"t2 = \", t2)\n",
        "\n",
        "#magnitude:\n",
        "\n",
        "n2 = np.sqrt(t2.dot(t2))\n",
        "print(\"the size of t2 is \", n2)\n",
        "\n",
        "#create u2:\n",
        "u2 = (1/n2)*t2\n",
        "print(\"u2 is \", u2)"
      ],
      "metadata": {
        "colab": {
          "base_uri": "https://localhost:8080/"
        },
        "id": "PIC3IdSb9Rp4",
        "outputId": "cf281639-1517-421a-df43-5c8c1b426738"
      },
      "execution_count": 15,
      "outputs": [
        {
          "output_type": "stream",
          "name": "stdout",
          "text": [
            "t2 =  [-4.4408921e-16  2.0000000e+00 -4.4408921e-16  3.0000000e+00]\n",
            "the size of t2 is  3.605551275463989\n",
            "u2 is  [-1.23168186e-16  5.54700196e-01 -1.23168186e-16  8.32050294e-01]\n"
          ]
        }
      ]
    },
    {
      "cell_type": "code",
      "source": [
        "# sanity check:\n",
        "print(\"the size of u2 is\", np.sqrt(u2.dot(u2)))\n",
        "\n",
        "print(\"the dot product of u1 and u2 is\", u1.dot(u2))"
      ],
      "metadata": {
        "colab": {
          "base_uri": "https://localhost:8080/"
        },
        "id": "-aMJ0dWe9wFA",
        "outputId": "0f3d1cc0-748b-4a32-8f3f-71a6d6394ac8"
      },
      "execution_count": 17,
      "outputs": [
        {
          "output_type": "stream",
          "name": "stdout",
          "text": [
            "the size of u2 is 1.0\n",
            "the dot product of u1 and u2 is -1.741861189847285e-16\n"
          ]
        }
      ]
    },
    {
      "cell_type": "code",
      "source": [
        "# process r3:\n",
        "t3 = r3 - r3.dot(u1) * u1 - r3.dot(u2) * u2\n",
        "print(\"t3 = \", t3)\n",
        "\n",
        "#magnitude:\n",
        "\n",
        "n3 = np.sqrt(t3.dot(t3))\n",
        "print(\"the size of t3 is \", n3)\n",
        "\n",
        "#create u3:\n",
        "u3 = (1/n3)*t3\n",
        "print(\"u3 is \", u3)"
      ],
      "metadata": {
        "colab": {
          "base_uri": "https://localhost:8080/"
        },
        "id": "oa0E45kJ-Hox",
        "outputId": "21202173-936a-4053-8dcf-9195bd00b10c"
      },
      "execution_count": 18,
      "outputs": [
        {
          "output_type": "stream",
          "name": "stdout",
          "text": [
            "t3 =  [-1.0000000e+00 -4.4408921e-16  1.0000000e+00 -8.8817842e-16]\n",
            "the size of t3 is  1.4142135623730951\n",
            "u3 is  [-7.07106781e-01 -3.14018492e-16  7.07106781e-01 -6.28036983e-16]\n"
          ]
        }
      ]
    },
    {
      "cell_type": "code",
      "source": [
        "# sanity check:\n",
        "print(\"the size of u3 is\", np.sqrt(u3.dot(u3)))\n",
        "\n",
        "print(\"the dot product of u2 and u3 is\", u2.dot(u3))"
      ],
      "metadata": {
        "colab": {
          "base_uri": "https://localhost:8080/"
        },
        "id": "ZrYes3Lk-qQb",
        "outputId": "f7597fb6-84b3-47fc-d4f3-53a389b15e5c"
      },
      "execution_count": 19,
      "outputs": [
        {
          "output_type": "stream",
          "name": "stdout",
          "text": [
            "the size of u3 is 0.9999999999999999\n",
            "the dot product of u2 and u3 is -6.967444759389139e-16\n"
          ]
        }
      ]
    }
  ]
}